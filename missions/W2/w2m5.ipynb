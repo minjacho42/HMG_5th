{
 "cells": [
  {
   "cell_type": "code",
   "id": "initial_id",
   "metadata": {
    "collapsed": true,
    "ExecuteTime": {
     "end_time": "2025-01-14T02:37:13.920053Z",
     "start_time": "2025-01-14T02:37:13.916546Z"
    }
   },
   "source": [
    "import pandas as pd\n",
    "import matplotlib.pyplot as plt\n",
    "from mistune.plugins.table import table\n",
    "from wordcloud import WordCloud\n",
    "from wordcloud import STOPWORDS\n",
    "from collections import Counter"
   ],
   "outputs": [],
   "execution_count": 110
  },
  {
   "metadata": {
    "ExecuteTime": {
     "end_time": "2025-01-14T01:38:07.236796Z",
     "start_time": "2025-01-14T01:38:07.234449Z"
    }
   },
   "cell_type": "code",
   "source": "CSV_PATH = './data/training.1600000.processed.noemoticon.csv'",
   "id": "12d243e65ce33ef2",
   "outputs": [],
   "execution_count": 6
  },
  {
   "metadata": {
    "ExecuteTime": {
     "end_time": "2025-01-14T02:10:23.179225Z",
     "start_time": "2025-01-14T02:10:21.183377Z"
    }
   },
   "cell_type": "code",
   "source": [
    "\"\"\"\n",
    "target: the polarity of the tweet (0 = negative, 2 = neutral, 4 = positive)\n",
    "ids: The id of the tweet ( 2087)\n",
    "date: the date of the tweet (Sat May 16 23:58:44 UTC 2009)\n",
    "flag: The query (lyx). If there is no query, then this value is NO_QUERY.\n",
    "user: the user that tweeted (robotickilldozr)\n",
    "text: the text of the tweet (Lyx is cool)\n",
    "\"\"\"\n",
    "\n",
    "tweets_df = pd.read_csv(CSV_PATH, encoding='latin-1', header=None, names=['target', 'ids', 'date', 'flag', 'user', 'text'])"
   ],
   "id": "14583945c06542e8",
   "outputs": [
    {
     "data": {
      "text/plain": [
       "9600000"
      ]
     },
     "execution_count": 74,
     "metadata": {},
     "output_type": "execute_result"
    }
   ],
   "execution_count": 74
  },
  {
   "metadata": {
    "ExecuteTime": {
     "end_time": "2025-01-14T02:30:39.790066Z",
     "start_time": "2025-01-14T02:30:39.704665Z"
    }
   },
   "cell_type": "code",
   "source": [
    "# Delete all duplicated columns of id\n",
    "tweets_df.drop_duplicates(subset='ids', keep=False, inplace=True)"
   ],
   "id": "358776130aa14c00",
   "outputs": [],
   "execution_count": 96
  },
  {
   "metadata": {
    "ExecuteTime": {
     "end_time": "2025-01-14T03:11:59.078553Z",
     "start_time": "2025-01-14T03:11:58.918906Z"
    }
   },
   "cell_type": "code",
   "source": [
    "neg_text = ' '.join(tweets_df[tweets_df['target'] == 0]['text'])\n",
    "pos_text = ' '.join(tweets_df[tweets_df['target'] == 4]['text'])"
   ],
   "id": "8f0d5604c578d09e",
   "outputs": [],
   "execution_count": 138
  },
  {
   "metadata": {
    "ExecuteTime": {
     "end_time": "2025-01-14T03:14:39.909718Z",
     "start_time": "2025-01-14T03:14:24.498363Z"
    }
   },
   "cell_type": "code",
   "source": [
    "pos_wordcloud = WordCloud(width=1000, height=500, background_color='white', max_words=200)\n",
    "pos_wordcloud.generate(pos_text)\n",
    "pos_wordcloud.to_file('pos_wordcloud.png')"
   ],
   "id": "809fc4ecb82fee7f",
   "outputs": [
    {
     "data": {
      "text/plain": [
       "<wordcloud.wordcloud.WordCloud at 0x4090bdf90>"
      ]
     },
     "execution_count": 141,
     "metadata": {},
     "output_type": "execute_result"
    }
   ],
   "execution_count": 141
  },
  {
   "metadata": {
    "ExecuteTime": {
     "end_time": "2025-01-14T03:14:54.928428Z",
     "start_time": "2025-01-14T03:14:39.972249Z"
    }
   },
   "cell_type": "code",
   "source": [
    "neg_wordcloud = WordCloud(width=1000, height=500, background_color='white', max_words=200)\n",
    "neg_wordcloud.generate(neg_text)\n",
    "neg_wordcloud.to_file('neg_wordcloud.png')"
   ],
   "id": "6b2b4b81ef3092b7",
   "outputs": [
    {
     "data": {
      "text/plain": [
       "<wordcloud.wordcloud.WordCloud at 0x4090be0d0>"
      ]
     },
     "execution_count": 142,
     "metadata": {},
     "output_type": "execute_result"
    }
   ],
   "execution_count": 142
  }
 ],
 "metadata": {
  "kernelspec": {
   "display_name": "Python 3",
   "language": "python",
   "name": "python3"
  },
  "language_info": {
   "codemirror_mode": {
    "name": "ipython",
    "version": 2
   },
   "file_extension": ".py",
   "mimetype": "text/x-python",
   "name": "python",
   "nbconvert_exporter": "python",
   "pygments_lexer": "ipython2",
   "version": "2.7.6"
  }
 },
 "nbformat": 4,
 "nbformat_minor": 5
}
